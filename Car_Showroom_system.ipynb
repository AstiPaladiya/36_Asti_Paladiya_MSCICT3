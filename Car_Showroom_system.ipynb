{
 "cells": [
  {
   "cell_type": "code",
   "execution_count": 15,
   "id": "52feb503-fff4-4879-8517-0216352347ab",
   "metadata": {},
   "outputs": [
    {
     "name": "stdout",
     "output_type": "stream",
     "text": [
      "===== Welcome to Car Showroom =====\n"
     ]
    },
    {
     "name": "stdin",
     "output_type": "stream",
     "text": [
      "Enter number of cars to add initially:  1\n"
     ]
    },
    {
     "name": "stdout",
     "output_type": "stream",
     "text": [
      "\n",
      "Enter details of Car 1:\n"
     ]
    },
    {
     "name": "stdin",
     "output_type": "stream",
     "text": [
      "Brand:  sub\n",
      "Model:  suv\n",
      "Price (₹):  435435\n",
      "Fuel Type:  3445\n",
      "Transmission (Manual/Automatic):  Manual\n",
      "Color:  red\n"
     ]
    },
    {
     "name": "stdout",
     "output_type": "stream",
     "text": [
      "\n",
      " suv has been added to showroom.\n",
      "\n",
      "===== Car Showroom Menu =====\n",
      "1. View Available Cars\n",
      "2. Display Car Details\n",
      "3. Buy a Car (Customer)\n",
      "4. Add New Car to Showroom\n",
      "5. Exit\n"
     ]
    },
    {
     "name": "stdin",
     "output_type": "stream",
     "text": [
      "Enter your choice:  2\n",
      "Enter the car model to view details:  suv\n",
      "Enter your salary: ₹ 324234\n"
     ]
    },
    {
     "name": "stdout",
     "output_type": "stream",
     "text": [
      "\n",
      "Car details:\n",
      "Brand ::sub\n",
      "Model ::suv\n",
      "Price ::435435\n",
      "Fuel Type ::3445\n",
      "Transmission ::Manual\n",
      "Color ::red\n",
      "\n",
      "===== Car Showroom Menu =====\n",
      "1. View Available Cars\n",
      "2. Display Car Details\n",
      "3. Buy a Car (Customer)\n",
      "4. Add New Car to Showroom\n",
      "5. Exit\n"
     ]
    },
    {
     "name": "stdin",
     "output_type": "stream",
     "text": [
      "Enter your choice:  3\n",
      "Enter your name:  asti\n",
      "Enter your salary: ₹ 1233\n",
      "Enter the car model you want to buy:  suv\n"
     ]
    },
    {
     "name": "stdout",
     "output_type": "stream",
     "text": [
      "\n",
      "Sorry asti,Salary is less than rs. 1,00,000. You Cannot buy this car!\n",
      "\n",
      "===== Car Showroom Menu =====\n",
      "1. View Available Cars\n",
      "2. Display Car Details\n",
      "3. Buy a Car (Customer)\n",
      "4. Add New Car to Showroom\n",
      "5. Exit\n"
     ]
    },
    {
     "name": "stdin",
     "output_type": "stream",
     "text": [
      "Enter your choice:  4\n"
     ]
    },
    {
     "name": "stdout",
     "output_type": "stream",
     "text": [
      "\n",
      "Enter details of the new car:\n"
     ]
    },
    {
     "name": "stdin",
     "output_type": "stream",
     "text": [
      "Brand:  toyota\n",
      "Model:  swift\n",
      "Price (₹):  3455555\n",
      "Fuel Type:  2342\n",
      "Transmission (Manual/Automatic):  Automatic\n",
      "Color:  white\n"
     ]
    },
    {
     "name": "stdout",
     "output_type": "stream",
     "text": [
      "\n",
      " swift has been added to showroom.\n",
      "\n",
      "===== Car Showroom Menu =====\n",
      "1. View Available Cars\n",
      "2. Display Car Details\n",
      "3. Buy a Car (Customer)\n",
      "4. Add New Car to Showroom\n",
      "5. Exit\n"
     ]
    },
    {
     "name": "stdin",
     "output_type": "stream",
     "text": [
      "Enter your choice:  1\n"
     ]
    },
    {
     "name": "stdout",
     "output_type": "stream",
     "text": [
      "\n",
      " Available Cars in showroom:\n",
      "1.suv-435435\n",
      "2.swift-3455555\n",
      "\n",
      "===== Car Showroom Menu =====\n",
      "1. View Available Cars\n",
      "2. Display Car Details\n",
      "3. Buy a Car (Customer)\n",
      "4. Add New Car to Showroom\n",
      "5. Exit\n"
     ]
    },
    {
     "name": "stdin",
     "output_type": "stream",
     "text": [
      "Enter your choice:  5\n"
     ]
    },
    {
     "name": "stdout",
     "output_type": "stream",
     "text": [
      "\n",
      "👋 Thank you for visiting the showroom!\n"
     ]
    }
   ],
   "source": [
    "#custom exception\n",
    "class SalaryTooLowException(Exception):\n",
    "    def __init__(self,message=\"Salary is less than rs. 1,00,000. You Cannot buy this car!\"):\n",
    "        self.message=message\n",
    "        super().__init__(self.message)\n",
    "\n",
    "#base class\n",
    "class Car:\n",
    "    def __init__(self,brand,model,price,fuel_type,transmission,color):\n",
    "        self._brand=brand\n",
    "        self._model=model\n",
    "        self._price=price\n",
    "        self._fuel_type=fuel_type\n",
    "        self._transmission=transmission\n",
    "        self._color=color\n",
    "    def get_model(self):\n",
    "        return self._model\n",
    "    def get_price(self):\n",
    "        return self._price\n",
    "    def get_detail(self):\n",
    "        return {\n",
    "            \"Brand :\":self._brand,\n",
    "            \"Model :\":self._model,\n",
    "            \"Price :\":self._price,\n",
    "            \"Fuel Type :\":self._fuel_type,\n",
    "            \"Transmission :\":self._transmission,\n",
    "            \"Color :\":self._color\n",
    "        }\n",
    "\n",
    "#derived class\n",
    "class Showroom(Car):\n",
    "    inventory=[]\n",
    "\n",
    "    @classmethod\n",
    "    def add_car(cls,car):\n",
    "        cls.inventory.append(car)\n",
    "        print(f\"\\n {car.get_model()} has been added to showroom.\")\n",
    "\n",
    "    @classmethod\n",
    "    def view_car(cls):\n",
    "        if not cls.inventory:\n",
    "            print(\"\\nNo car available in the showroom!\")\n",
    "        else:\n",
    "            print(\"\\n Available Cars in showroom:\")\n",
    "            for idx,car in enumerate(cls.inventory,start=1):\n",
    "                print(f\"{idx}.{car.get_model()}-{car.get_price()}\")\n",
    "\n",
    "    @classmethod\n",
    "    def show_car_detail(cls,model_name,salary):\n",
    "        try:\n",
    "            if salary<100000:\n",
    "                raise SalaryTooLowException(\"YOur salary is too low to view details!\")\n",
    "\n",
    "            for car in cls.inventory:\n",
    "                if car.get_model().lower()==model_name.lower():\n",
    "                    print(\"\\nCar details:\")\n",
    "                    for k,v in car.get_detail().items():\n",
    "                        print(f\"{k}:{v}\")\n",
    "                    return\n",
    "            print(\"\\nCar not found in inventory\")\n",
    "        except SalaryTooLowException as e:\n",
    "            print(f\"\\nException:{e}\")\n",
    "\n",
    "    @classmethod\n",
    "    def sell_car(cls,model_name,customer_name,salary):\n",
    "        try:\n",
    "            if salary<100000:\n",
    "                raise SalaryTooLowException()\n",
    "\n",
    "            for car in cls.inventory:\n",
    "                if car.get_model().lower()==model_name.lower():\n",
    "                    cls.inventory.remove(car)\n",
    "                    print(f\"\\nCongratulations {customer_name}! You have successfully bought {model_name}.\")\n",
    "                    return\n",
    "            print(\"\\nCar not found.Cannot sell\")\n",
    "        except SalaryTooLowException as e:\n",
    "            print(f\"\\nSorry {customer_name},{e}\")\n",
    "\n",
    "# -------------------------------\n",
    "# Menu-driven interface\n",
    "# -------------------------------\n",
    "\n",
    "def main():\n",
    "    print(\"===== Welcome to Car Showroom =====\")\n",
    "    n = int(input(\"Enter number of cars to add initially: \"))\n",
    "\n",
    "    for i in range(n):\n",
    "        print(f\"\\nEnter details of Car {i+1}:\")\n",
    "        brand = input(\"Brand: \")\n",
    "        model = input(\"Model: \")\n",
    "        price = int(input(\"Price (₹): \"))\n",
    "        fuel = input(\"Fuel Type: \")\n",
    "        transmission = input(\"Transmission (Manual/Automatic): \")\n",
    "        color = input(\"Color: \")\n",
    "\n",
    "        new_car = Car(brand, model, price, fuel, transmission, color)\n",
    "        Showroom.add_car(new_car)\n",
    "    while True:\n",
    "        print(\"\\n===== Car Showroom Menu =====\")\n",
    "        print(\"1. View Available Cars\")\n",
    "        print(\"2. Display Car Details\")\n",
    "        print(\"3. Buy a Car (Customer)\")\n",
    "        print(\"4. Add New Car to Showroom\")\n",
    "        print(\"5. Exit\")\n",
    "\n",
    "        choice = input(\"Enter your choice: \")\n",
    "\n",
    "        if choice == \"1\":\n",
    "            Showroom.view_car()\n",
    "\n",
    "        elif choice == \"2\":\n",
    "            model = input(\"Enter the car model to view details: \")\n",
    "            salary = int(input(\"Enter your salary: ₹\"))\n",
    "            Showroom.show_car_detail(model, salary)\n",
    "\n",
    "        elif choice == \"3\":\n",
    "            customer_name = input(\"Enter your name: \")\n",
    "            salary = int(input(\"Enter your salary: ₹\"))\n",
    "            model = input(\"Enter the car model you want to buy: \")\n",
    "            Showroom.sell_car(model, customer_name, salary)\n",
    "\n",
    "        elif choice == \"4\":\n",
    "            print(\"\\nEnter details of the new car:\")\n",
    "            brand = input(\"Brand: \")\n",
    "            model = input(\"Model: \")\n",
    "            price = int(input(\"Price (₹): \"))\n",
    "            fuel = input(\"Fuel Type: \")\n",
    "            transmission = input(\"Transmission (Manual/Automatic): \")\n",
    "            color = input(\"Color: \")\n",
    "\n",
    "            new_car = Car(brand, model, price, fuel, transmission, color)\n",
    "            Showroom.add_car(new_car)\n",
    "\n",
    "        elif choice == \"5\":\n",
    "            print(\"\\n👋 Thank you for visiting the showroom!\")\n",
    "            break\n",
    "\n",
    "        else:\n",
    "            print(\"\\n❌ Invalid choice. Try again.\")\n",
    "\n",
    "\n",
    "# -------------------------------\n",
    "# Run Program\n",
    "# -------------------------------\n",
    "if __name__ == \"__main__\":\n",
    "    main()"
   ]
  },
  {
   "cell_type": "code",
   "execution_count": null,
   "id": "ab50efaf-b6b5-4b27-811f-61005f48acb1",
   "metadata": {},
   "outputs": [],
   "source": []
  }
 ],
 "metadata": {
  "kernelspec": {
   "display_name": "Python [conda env:base] *",
   "language": "python",
   "name": "conda-base-py"
  },
  "language_info": {
   "codemirror_mode": {
    "name": "ipython",
    "version": 3
   },
   "file_extension": ".py",
   "mimetype": "text/x-python",
   "name": "python",
   "nbconvert_exporter": "python",
   "pygments_lexer": "ipython3",
   "version": "3.13.5"
  }
 },
 "nbformat": 4,
 "nbformat_minor": 5
}
